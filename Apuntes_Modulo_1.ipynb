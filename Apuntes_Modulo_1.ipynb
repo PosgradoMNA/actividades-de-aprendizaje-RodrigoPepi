{
  "nbformat": 4,
  "nbformat_minor": 0,
  "metadata": {
    "colab": {
      "provenance": [],
      "authorship_tag": "ABX9TyMTigZc52oKKQcSgeQN9qxI",
      "include_colab_link": true
    },
    "kernelspec": {
      "name": "python3",
      "display_name": "Python 3"
    },
    "language_info": {
      "name": "python"
    }
  },
  "cells": [
    {
      "cell_type": "markdown",
      "metadata": {
        "id": "view-in-github",
        "colab_type": "text"
      },
      "source": [
        "<a href=\"https://colab.research.google.com/github/PosgradoMNA/actividades-de-aprendizaje-RodrigoPepi/blob/main/Apuntes_Modulo_1.ipynb\" target=\"_parent\"><img src=\"https://colab.research.google.com/assets/colab-badge.svg\" alt=\"Open In Colab\"/></a>"
      ]
    },
    {
      "cell_type": "markdown",
      "source": [
        "#\"Hello World\"\n",
        "\tFirst Python Output\n",
        "\tprint('Hello, Masters!')"
      ],
      "metadata": {
        "id": "jwup3H9QxBhG"
      }
    },
    {
      "cell_type": "code",
      "source": [
        "\t#Check Python Version\n",
        "\timport sys\n",
        "\tprint(sys.version)"
      ],
      "metadata": {
        "id": "qA_jRsgnxGEq"
      },
      "execution_count": null,
      "outputs": []
    },
    {
      "cell_type": "markdown",
      "source": [
        "#The error message tells you:\n",
        "\n",
        "where the error occurred (more useful in large notebook cells or scripts), and\n",
        "what kind of error it was (NameError)"
      ],
      "metadata": {
        "id": "WjjzN1mcxTES"
      }
    },
    {
      "cell_type": "code",
      "source": [
        "Data Types\n",
        "\t# Integer\n",
        "\n",
        "\t1\n",
        "\t# Float\n",
        "\n",
        "\t1.4\n",
        "\t# String\n",
        "\n",
        "\t\"Hello, Masters!\""
      ],
      "metadata": {
        "id": "dMg_ReMexYgm"
      },
      "execution_count": null,
      "outputs": []
    },
    {
      "cell_type": "markdown",
      "source": [
        "#Type() returns the variable type name [int,float,str]\n",
        "\n",
        "sys.float_info || sys.int_info ..."
      ],
      "metadata": {
        "id": "M9JIXa7KxeiC"
      }
    },
    {
      "cell_type": "code",
      "source": [
        "\t#Convert int to float\n",
        "\tfloat(int)\n",
        "\t#Converting float to int makes the float lose the decimal information\n",
        "\tint(float)\n",
        "\t#Converting strings to other datatypes\n",
        "\tint('1')\n",
        "\t#If there isn't a perfect match, you'll get an error\n",
        "\tfloat('1.2')\n",
        "\t#Intuitively:\n",
        "\tstr(int) & str(float) #have no limitations"
      ],
      "metadata": {
        "id": "ZFaKLEXCxijX"
      },
      "execution_count": null,
      "outputs": []
    },
    {
      "cell_type": "code",
      "source": [
        "\t#Boolean data\n",
        "\tTrue #Value true\n",
        "\tFalse #Value false\n",
        "\ttype(True) || (False) #Boolean type\n",
        "\t#True to int\n",
        "\tint(True)\n",
        "\t#Convert 1 to boolean\n",
        "\tbool(1)\n",
        "\t#0 to boolean\n",
        "\tbool(0)\n",
        "\t#Convert True to float\n",
        "\tfloat(True)"
      ],
      "metadata": {
        "id": "7pWen0JzxlZF"
      },
      "execution_count": null,
      "outputs": []
    },
    {
      "cell_type": "markdown",
      "source": [
        "#Types \n",
        "type(6/2) #The result is a float since a single '/' \n",
        "\n",
        "type(6//2) #The result is an int, '//' meeans integer division"
      ],
      "metadata": {
        "id": "P8BvHrUDxpiA"
      }
    },
    {
      "cell_type": "code",
      "source": [
        "#Expressions and Variables\n",
        "\t#Addition operation expression\n",
        "\t40 + 12 + 45 + 1\n",
        "\t#Substraction operation expression\n",
        "\t10 - 40\n",
        "\t#Multiplication operation expression\n",
        "\t2*4\n",
        "\t#Division operation expression\n",
        "\t10/2\n",
        "\t#Integer division operation expression\n",
        "\t10//2\n",
        "\t#Mathematical Expression\n",
        "\t30 + 2 * 40 #Translate as -> 30+(2*40)\n",
        "\t(30 + 2)*40 #Different\n",
        "\n",
        "\t#Variables\n",
        "\tx = 40 + 12 + 45 + 1\n",
        "\tprint(x) \n",
        "\t#Use other variables to make operations\n",
        "\ty = x/60\n",
        "\ty\n",
        "\t#Overwrite Variable with new value\n",
        "\tx = x/2\n",
        "\tx\n",
        "\t#Value of x\n",
        "\tx = 3+1*2 # x = 5\n",
        "\t#Value of y\n",
        "\ty = (3+3)/2 # y = 3"
      ],
      "metadata": {
        "colab": {
          "base_uri": "https://localhost:8080/",
          "height": 130
        },
        "id": "mpvd_EVUx51n",
        "outputId": "264deeb5-c062-4dfc-bd42-c49d7a83ec8a"
      },
      "execution_count": 2,
      "outputs": [
        {
          "output_type": "error",
          "ename": "IndentationError",
          "evalue": "ignored",
          "traceback": [
            "\u001b[0;36m  File \u001b[0;32m\"<ipython-input-2-ce9af2f636be>\"\u001b[0;36m, line \u001b[0;32m3\u001b[0m\n\u001b[0;31m    40 + 12 + 45 + 1\u001b[0m\n\u001b[0m    ^\u001b[0m\n\u001b[0;31mIndentationError\u001b[0m\u001b[0;31m:\u001b[0m unexpected indent\n"
          ]
        }
      ]
    },
    {
      "cell_type": "code",
      "source": [
        "#Strings\n",
        "\t#Everything between '' or \"\" is a string, including spaces, special characters, etc...\n",
        "\t\tprint('hello') #Prints string\n",
        "\t\tname = 'Pepe'  #Stores String value in variable\n",
        "\t\tprint(name[0]) #Prints the character at index 0 in name variable i.e.: 'P'\n",
        "\n",
        "\t#Negative indexing takes as first the last character of a string and starts as -1; move to the right to substract 1 for each index. \n",
        "\t\tprint(name[-1]) #Prints the element in index -1 in name variable i.e.: 'e'\n",
        "\t\tprint(name[-4]) #Prints the first element in the string\n",
        "\n",
        "\t#Find length of a string\n",
        "\t\tlen('Pepe')\n",
        "\t#Slicing strings\n",
        "\t\tname[0:2] = 'Pe' #Variables from index 0 to index 1; read as [starting point:length of string]\n",
        "\t#Strides \n",
        "\t\tname[::2]: 'Pp' #Get every element starting at 0, with a step of 2 indexes to acquire next value\n",
        "\t#Concatenate\n",
        "\t\tstatement = name + 'is great'\n",
        "\t\tstatement\n",
        "\t#Print multiple times, use integer\n",
        "\t\t3*'Pepe'\n",
        "\t#Concatenate Strings\n",
        "\t\tage = '98' \n",
        "\t\tname = 'Pepe'\n",
        "\t\tobituary = name + age\n",
        "\n",
        "\t#New line escape sequence\n",
        "\t\tprint('Pepe \\n is old')\n",
        "\t#Tab escape sequence\n",
        "\t\tprint('Pepe \\t is old')\n",
        "\t#Include back slash in string\n",
        "\t\tprint('Pepe \\\\ is old')"
      ],
      "metadata": {
        "id": "41NHH7cmyBpK"
      },
      "execution_count": null,
      "outputs": []
    },
    {
      "cell_type": "code",
      "source": [
        "#String Operations\n",
        "\n",
        "\t# Convert all the characters in string to upper case\n",
        "\t\ta = \"Pepe is old\"\n",
        "\t\tprint(\"before upper:\", a)\n",
        "\t\tb = a.upper() #a.lower()\n",
        "\t\tprint(\"After upper:\", b)\n",
        "\t# Replace the old substring with the new target substring is the segment has been found in the string\n",
        "\t\ta = \"Pepe is old\"\n",
        "\t\tb = a.replace('Pepe', 'Ana')\n",
        "\t\tb\n",
        "\t# Find the substring in the string. Only the index of the first elment of substring in string will be the output\n",
        "\t\tname = \"Pedro'\n",
        "\t\tname.find('o')\n",
        "\t#Print first 3 elements\n",
        "\t\td= \"ABCDEFG\"\n",
        "\t\tprint(d[:3]) # or print(d[0:3])\n",
        "\t#Stride of 2\n",
        "\t\td= \"ABCDEFG\"\n",
        "\t\tprint(d[::2])\n",
        "\t#Lower/Uppercase\n",
        "\t\td.lower() #d.upper()"
      ],
      "metadata": {
        "id": "s-C6XN-DyKBy"
      },
      "execution_count": null,
      "outputs": []
    }
  ]
}