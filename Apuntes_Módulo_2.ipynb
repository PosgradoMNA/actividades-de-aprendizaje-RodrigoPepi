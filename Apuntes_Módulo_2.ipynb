{
  "nbformat": 4,
  "nbformat_minor": 0,
  "metadata": {
    "colab": {
      "provenance": [],
      "authorship_tag": "ABX9TyPXrOcOPKDTFg44Sl2aApbm",
      "include_colab_link": true
    },
    "kernelspec": {
      "name": "python3",
      "display_name": "Python 3"
    },
    "language_info": {
      "name": "python"
    }
  },
  "cells": [
    {
      "cell_type": "markdown",
      "metadata": {
        "id": "view-in-github",
        "colab_type": "text"
      },
      "source": [
        "<a href=\"https://colab.research.google.com/github/PosgradoMNA/actividades-de-aprendizaje-RodrigoPepi/blob/main/Apuntes_M%C3%B3dulo_2.ipynb\" target=\"_parent\"><img src=\"https://colab.research.google.com/assets/colab-badge.svg\" alt=\"Open In Colab\"/></a>"
      ]
    },
    {
      "cell_type": "markdown",
      "source": [
        "#Tuple"
      ],
      "metadata": {
        "id": "nUdKwK2mymV4"
      }
    },
    {
      "cell_type": "code",
      "source": [
        "\t# Create your first tuple, each element is indexed\n",
        "\t\ttuple1 = (\"country\",10,1.2 )\n",
        "\t\ttuple1\n",
        "\t# Print the variable on each index\n",
        "\t\tprint(tuple1[0])\n",
        "\t\tprint(tuple1[1])\n",
        "\t\tprint(tuple1[2])\n",
        "\t# Print the type of value on each index, tuples can have any value type\n",
        "\t\tprint(type(tuple1[0]))\n",
        "\t\tprint(type(tuple1[1]))\n",
        "\t\tprint(type(tuple1[2]))\n",
        "\t# Concatenate two tuples, you can concatenate multiple tuples\n",
        "\t\ttuple2 = tuple1 + (\"jazz\", 10)\n",
        "\t\ttuple2\n",
        "\t# We can slice tuples to obtain new ones\n",
        "\t# Slice from index 0 to index 2\n",
        "\t\ttuple2[0:3] #First three elements in tuple2\n",
        "\t# Get the length of tuple2\n",
        "\t\tlen(tuple2)\n",
        "\t# A sample tuple\n",
        "\t\tRatings = (0, 9, 6, 5, 10, 8, 9, 6, 2)\n",
        "\t# Sort sequence\n",
        "\t\tRatings1 = sorted(Ratings)\n",
        "\t\tRatings1\n",
        "\t# Create a nest tuple\n",
        "\t\tNestedT = (1,2('pop','rock'),(3,4),('disco',(1,2))) # There are four indexes in the first tuple, however it's got three nested tuples with individual\n",
        "\t\t\t\t\t\t\t\t\t # Indexes, i.e.: NestedT[2][0] represents the value of the first index of the second element (nestedTuple)\n",
        "\t# You can access the string indexing itself by adding a third index, NestedT[2][0][0] represents letter 'p'. \n",
        "\t#Tuple length\n",
        "\t\tlen(tuple1)"
      ],
      "metadata": {
        "id": "qFdGf0layoq_"
      },
      "execution_count": null,
      "outputs": []
    },
    {
      "cell_type": "markdown",
      "source": [
        "#List"
      ],
      "metadata": {
        "id": "iFvJSu8ZytnW"
      }
    },
    {
      "cell_type": "code",
      "source": [
        "\t#To create list use [], with contents inside separated by commas. \n",
        "\t\tL= [1,'pepe','ana',2]\n",
        "\t#Print index content\n",
        "\t\tL[0]: #1; with negative index use L[-4]:\n",
        "\t#Lists can contain any data type, including nested tuples and other lists. Lists have the same indexing principles as tuples. \n",
        "\t\n",
        "\t#Use extend method to add new elements to list\n",
        "\t\tL= [1,'pepe','ana',2]\n",
        "\t\tL.extend(['pablo',3])\n",
        "\t\tL\n",
        "\t#If you use append, what you add will be added as a nested List within the existing list\n",
        "\t#Lists are mutable, we can change them\n",
        "\t\tA = [\"pepe\", 10]\n",
        "\t\tprint('Before change:', A)\n",
        "\t\tA[0] = 'pablo'\n",
        "\t\tprint('After change:', A)\n",
        "\t# Delete an element based on the index\n",
        "\t\tprint('Before change:', A)\n",
        "\t\tdel(A[0])\n",
        "\t\tprint('After change:', A)\n",
        "\t#The method split slices every group of characters separated by a space into an element in a new list. \n",
        "\t\t'hard rock'.split() # hard , rock \n",
        "\t#You can also set a specific delimiter to create the separation\n",
        "\t\t'A,B,C,D'.split(',') # here the comma is the delimeter\n",
        "\t# Copy (reference) the list A\n",
        "\t\tA = [\"hard rock\", 10, 1.2] #changes performed on list A will reflect on list B\n",
        "\t\tB = A\n",
        "\t\tprint('A:', A)\n",
        "\t\tprint('B:', B)\n",
        "\t# Clone (clone by value) the list A\n",
        "\t\tB = A[:]\t\t\t#changes aren't made on list B if we change values on list A\n",
        "\t\tB"
      ],
      "metadata": {
        "id": "o1Tw4aR9yvuq"
      },
      "execution_count": null,
      "outputs": []
    },
    {
      "cell_type": "markdown",
      "source": [
        "#Sets"
      ],
      "metadata": {
        "id": "Jmjl245Dy0QE"
      }
    },
    {
      "cell_type": "code",
      "source": [
        "\t# Sets are a unique collection of objects, use curly brackets and note that python will eliminate all duplicate items. \n",
        "\t\tset1 = {\"pop\", \"rock\", \"soul\", \"hard rock\", \"rock\", \"R&B\", \"rock\", \"disco\"}\n",
        "\t\tset1\n",
        "\t# Convert List to set\n",
        "\t\tL = ['1','2','2','3']\n",
        "\t\tLSet = set(L)\n",
        "\t\tL\n",
        "\t# Add element to set\n",
        "\t\tL.add('4')\n",
        "\t# Remove element from set\n",
        "\t\tL.remove('4')\n",
        "\t# Verify if element is in the set\n",
        "\t\t'1' in L\n",
        "\t#Find intersection or elements in common of different sets\n",
        "\t\tintersection = set1 & set2\n",
        "\t\tset1.intersection(set2)\n",
        "\t# Find the difference in set1 but not set2\n",
        "\t\tset1.difference(set2)  \n",
        "\t# Find the union of two sets\n",
        "\t\tset1.union(set2)\n",
        "\t# Check if set is superset\n",
        "\t\tset(set1).issuperset(set2)   \n",
        "\t# Check if set is subset\n",
        "\t\tset(album_set2).issubset(album_set1)  "
      ],
      "metadata": {
        "id": "WXZD8y_Qy2gY"
      },
      "execution_count": null,
      "outputs": []
    },
    {
      "cell_type": "markdown",
      "source": [
        "#Dictionaries"
      ],
      "metadata": {
        "id": "RA2SGRhgy489"
      }
    },
    {
      "cell_type": "code",
      "source": [
        "\t# Create the dictionary\n",
        "\t\tDict = {\"k1\": 1, \"k2\": \"2\", \"k3\": [3, 3, 3], \"k4\": (4, 4, 4), ('k5'): 5, (0, 1): 6}\n",
        "\t\tDict\n",
        "\t#Keys can be strings, you can access values using the keys (k1,k2....)\n",
        "\t#Keys can also be immutable objects, like tuples (see key number 6 or index 5)\n",
        "\t# Create a sample dictionary\n",
        "\t\trelease_year_dict = {\"Thriller\": \"1982\", \"Back in Black\": \"1980\", \\\n",
        "                    \"The Dark Side of the Moon\": \"1973\", \"The Bodyguard\": \"1992\", \\\n",
        "                    \"Bat Out of Hell\": \"1977\", \"Their Greatest Hits (1971-1975)\": \"1976\", \\\n",
        "                    \"Saturday Night Fever\": \"1977\", \"Rumours\": \"1977\"}\n",
        "\t\trelease_year_dict\n",
        "\t# Get value by keys\n",
        "\t\trelease_year_dict['Thriller'] #The key is thriller and its value is 1982\n",
        "\t# Get all the keys in dictionary\n",
        "\t\trelease_year_dict.keys() \n",
        "\t# Get all the values in dictionary\n",
        "\t\trelease_year_dict.values() \n",
        "\t# Append value with key into dictionary\n",
        "\t\trelease_year_dict['Graduation'] = '2007' #Graduation is the key, value is 2007\n",
        "\t\trelease_year_dict\n",
        "\t# Delete entries by key\n",
        "\t\tdel(release_year_dict['Thriller'])\n",
        "\t\tdel(release_year_dict['Graduation'])\n",
        "\t\trelease_year_dict\n",
        "\t# Verify the key is in the dictionary\n",
        "\t\t'The Bodyguard' in release_year_dict"
      ],
      "metadata": {
        "id": "dsm9DC2Sy7XC"
      },
      "execution_count": null,
      "outputs": []
    }
  ]
}