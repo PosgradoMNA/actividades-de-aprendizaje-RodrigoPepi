{
  "nbformat": 4,
  "nbformat_minor": 0,
  "metadata": {
    "colab": {
      "provenance": [],
      "authorship_tag": "ABX9TyNTw4FHScNeUXrLDOHypN+H",
      "include_colab_link": true
    },
    "kernelspec": {
      "name": "python3",
      "display_name": "Python 3"
    },
    "language_info": {
      "name": "python"
    }
  },
  "cells": [
    {
      "cell_type": "markdown",
      "metadata": {
        "id": "view-in-github",
        "colab_type": "text"
      },
      "source": [
        "<a href=\"https://colab.research.google.com/github/PosgradoMNA/actividades-de-aprendizaje-RodrigoPepi/blob/main/Apuntes_M%C3%B3dulo_4.ipynb\" target=\"_parent\"><img src=\"https://colab.research.google.com/assets/colab-badge.svg\" alt=\"Open In Colab\"/></a>"
      ]
    },
    {
      "cell_type": "markdown",
      "source": [
        "#Module 4"
      ],
      "metadata": {
        "id": "WGgLv_AF1al6"
      }
    },
    {
      "cell_type": "markdown",
      "source": [
        "# Read from a file"
      ],
      "metadata": {
        "id": "LbgMVkue1lTi"
      }
    },
    {
      "cell_type": "code",
      "source": [
        "# Read from a file\n",
        "\tLine1.read()\n",
        "# Open a File\n",
        "\tFile = open(\"C:\\User\\Docs\\Folder\\Example.txt\",w\")\n",
        "# Argument is the file path and the mode, the modes are r' for reading, w' for writting and a' for append\n",
        "# Using method .mode will show the data mode attribute used by the object\n",
        "\tFile.mode\n",
        "# Use method .close() to close files\n",
        "\tFile.close()\n",
        "# Using the with statement will automatically close the files that are opened by it\n",
        "\twith open(\"Example.txt\",'a') as File:\n",
        "\t\tfile_things=File.append()\n",
        "\t\tprint(file_things)\n",
        "\tprint(File.closed)\n",
        "\tprint(file_things)\n",
        "# The method read, stores the values of the file in the declared variable as a string\n",
        "# You can check if the file content is closed, but you cannot read from it outside the indent\n",
        "# Alternatively you can print the file content outside the indent as well\n",
        "# When examining raw string the '\\n' will appear to show python the start of a new line\n",
        "# With method readlines you can group every element (text line) in a list\n",
        "\twith open(\"Example.txt\",'r') as File:\n",
        "\t\tfile_things=File.readline()\n",
        "\t\tprint(file_things)\n",
        "# With the previous command, the file_things value will be the first line of text from our File\n",
        "# Calling this method multiple times in a row will make it iterate the value of each call to the next element of the File\n",
        "\twith open(\"Example.txt\",'r') as File:\n",
        "\t\tfor line in File:\n",
        "\t\tprint(line)\n",
        "# With the previous code you print all lines individually\n",
        "# Characters in text can be recognized with the same indexing properties as a regular string\n",
        "\twith open(\"Example.txt\",'r') as File:\n",
        "\t\tfile_things=File.readlines(12)\n",
        "\t\tprint(file_things)\n",
        "\t\tfile_things=File.readlines(3)\n",
        "# The arguments in the method are declaring how long is the string that wants to be extracted, calling it multiple times in a row will make it look for the length\n",
        "# of string to extract but in the next line"
      ],
      "metadata": {
        "id": "dJ1Azmy31dbk"
      },
      "execution_count": null,
      "outputs": []
    },
    {
      "cell_type": "markdown",
      "source": [
        "# Writing files with Open"
      ],
      "metadata": {
        "id": "pz_Q_YsR1gwf"
      }
    },
    {
      "cell_type": "code",
      "source": [
        "# Fileobject.write(\"Text that will go in the file\")\n",
        "\t\tFile = open(\"C:\\User\\Docs\\Folder\\Example.txt\",\"w\")\n",
        "\t\twith open(\"C:\\User\\Docs\\Folder\\Example.txt\",\"w\") as FileEx:\n",
        "\t\t\tFileEx.write(\"This is a Test\")\n",
        "\t# This creates a new file in the selected directory\n",
        "\t\tFileEx.write(\"This is line 1\\n\")\n",
        "\t\tFileEx.write(\"This is line 2\\n\")\n",
        "\t# This adds to different lines of text to the file\n",
        "\t  \tLines1=[\"L1\",\"L2\",\"L3\"]\n",
        "\t\t\twith open(\"C:\\User\\Docs\\Folder\\Example.txt\",\"w\") as FileEx:\n",
        "\t\t\t\tfor line in Lines1:\n",
        "\t\t\t\t\tFileEx.write(line)\n",
        "\t# Add all members of a list to a new txt file with a for Loop\n",
        "\n",
        "\t# Copy an existing file to a new file\n",
        "\t# Using a for loop will move all the lines of the file to the new file, in the end they are both closed\n",
        "\t\twith open(\"C:\\User\\Docs\\Folder\\Example.txt\",\"r\") as readfile:\n",
        "\t\t\twith open(\"C:\\User\\Docs\\Folder\\Example1.txt\",\"w\") as writefile:\n",
        "\t\t\t\tfor line in readfile: \n",
        "\t\t\t\t\twritefile.write(line)"
      ],
      "metadata": {
        "id": "CDUMIowl1oSY"
      },
      "execution_count": null,
      "outputs": []
    },
    {
      "cell_type": "markdown",
      "source": [
        "#Loading Data with Pandas"
      ],
      "metadata": {
        "id": "7Wcfy-WO1rr9"
      }
    },
    {
      "cell_type": "code",
      "source": [
        "\t# Pandas is a library for data analys\n",
        "\t\timport pandas as pd # Import the library, use the as pd to shorten the length of pandas to be used in the code; although other term could be used\n",
        "\t\tcsv_path='file.csv'\n",
        "\t\tdf=pd.read_csv(csv-path) # Tedious and slow with pandas, faster and easier with pd; df means dataframe\n",
        "\t\tdf.head() # Used to examine the first five rows of a dataframe\n",
        "\t#Read excel files\n",
        "\t\txlsx_path='file.xlsx'\n",
        "\t\tdf=pd.read_excel(xlsx-path)\n",
        "\t\tdf.head\n",
        "\t# Since dataframes are comprised of rows and columns, you can create a dataframe from a dictionary, the Keys correspond to the column labels, whilst the values\n",
        "\t# correspond to the rows\n",
        "\t\n",
        "\t# To create a dataframe from a column\n",
        "\t\tx=df[['Column-Name']]\n",
        "\t# The same can be done for multiple column headers, just encolse them in double brackets\n",
        "\t\tx=df[['Column-Name','Column-name1','...']]\n",
        "\t# Access different index values\n",
        "\t\tdf.ix[0,0]:'First Row & Column'\n",
        "\t\tdf.ix[1,0]:'Second Row & First Column'\n",
        "\t\tdf.ix[0,2]:'First Row & Third Column'\n",
        "\t# You can also use the column names for indexing, i.e.: df.ix[0,'Column-Name']\n",
        "\t\tw=df.ix[0:2,0:4] # This will create a new dataframe comprised of the selected rows and columns, this is effective for slicing\n",
        "\t# Alternatively you can do the same with the column names\n",
        "\t\tw=df.ix[0:2,'ColName1':'ColName2']"
      ],
      "metadata": {
        "id": "7lyhGj-c1uTN"
      },
      "execution_count": null,
      "outputs": []
    },
    {
      "cell_type": "markdown",
      "source": [
        "#Working with and Saving Data with Pandas"
      ],
      "metadata": {
        "id": "d4949SkY1yMD"
      }
    },
    {
      "cell_type": "code",
      "source": [
        "\t# Method to count distinct values with method unique() \n",
        "\t\tdf['dataframe'].unique() # It'll only output unique values\n",
        "\t# You can set the function to look for unique values after an inequality \n",
        "\t\tdf['dataframe']>= x # All values in the selected dataframe column will create an output of boolean values that will declare if the condition is or isn't met\n",
        "\t# To select the specified columns which value is true then you must code\n",
        "\t\tdf1=df[dfdf['dataframe']>= x] # You assign the inequality result to another variable in this case df1\n",
        "\t# Afterwards your created dataset will contain only the values that meet the condition requirements\n",
        "\t\tdf1.to_csv('new_file.csv') # The method .to_csv will save your files in a csv format"
      ],
      "metadata": {
        "id": "mEk_ryba1z1N"
      },
      "execution_count": null,
      "outputs": []
    }
  ]
}