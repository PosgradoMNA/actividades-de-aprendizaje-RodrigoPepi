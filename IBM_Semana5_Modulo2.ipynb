{
  "nbformat": 4,
  "nbformat_minor": 0,
  "metadata": {
    "colab": {
      "provenance": [],
      "authorship_tag": "ABX9TyP0WM30vXdLi2xh/iGCH04H",
      "include_colab_link": true
    },
    "kernelspec": {
      "name": "python3",
      "display_name": "Python 3"
    },
    "language_info": {
      "name": "python"
    }
  },
  "cells": [
    {
      "cell_type": "markdown",
      "metadata": {
        "id": "view-in-github",
        "colab_type": "text"
      },
      "source": [
        "<a href=\"https://colab.research.google.com/github/PosgradoMNA/actividades-de-aprendizaje-RodrigoPepi/blob/main/IBM_Semana5_Modulo2.ipynb\" target=\"_parent\"><img src=\"https://colab.research.google.com/assets/colab-badge.svg\" alt=\"Open In Colab\"/></a>"
      ]
    },
    {
      "cell_type": "markdown",
      "source": [
        "# IBM Módulo 2\n",
        "\n",
        "Rodrigo Pepi Guerra - A01382430\n",
        "\n",
        "![image.png](data:image/png;base64,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)"
      ],
      "metadata": {
        "id": "FvWhTYM-0iz9"
      }
    },
    {
      "cell_type": "markdown",
      "source": [],
      "metadata": {
        "id": "DZvxukGF0kXK"
      }
    },
    {
      "cell_type": "markdown",
      "source": [
        "#Data Pre-procesing\n",
        "\n",
        "Converting raw data to another format to prepare it to use it for analysis. Identifying and handling missing values; data normalization for centering or scaling; also transforming categorical into numerical values. \n"
      ],
      "metadata": {
        "id": "54HzILAxyhd6"
      }
    },
    {
      "cell_type": "markdown",
      "source": [
        "Missing Values: You can at first, drop the variable or the entry, this is best when there aren't much entries; however you can replace missing values with an average, for numerical variables, or the mode based on the frequency; although there are other alternatives based on different functions. \n"
      ],
      "metadata": {
        "id": "uvmCVujCynf1"
      }
    },
    {
      "cell_type": "code",
      "source": [
        "dataframes.dropna() #removes data with missing values\n",
        "#axis = 0 drops the entire row\n",
        "#axis = 1 drops the entrie column\n",
        "df.dropna(subset=['column'], axis = 0)\n",
        "df.dropna(subset=['column'], axis = 0, inplace = True)\n",
        "dataframe.replace(missing_value, new_value):\n",
        "df['column'].mean()\n",
        "df['column'].replace(np.nan,mean)\n"
      ],
      "metadata": {
        "id": "b6i8eub7yrcp"
      },
      "execution_count": null,
      "outputs": []
    },
    {
      "cell_type": "markdown",
      "source": [
        "Data formatting: can be collected by multiple people with different formats. Formatting date makes it clearer for the user, easier to aggregate and easier to compare; this can make it easier to create statistical analyses. \n"
      ],
      "metadata": {
        "id": "PKGFIktKzCQE"
      }
    },
    {
      "cell_type": "code",
      "source": [
        "df['column'] = 100/df['column'] #You can apply different mathematical operations to an entire column. \n",
        "\n",
        "df['column'].tail(5) #This formila will show the very last rows of the dataframe the oposite of df.head()\n"
      ],
      "metadata": {
        "id": "Vnt5Lc2AzHKA"
      },
      "execution_count": null,
      "outputs": []
    },
    {
      "cell_type": "markdown",
      "source": [
        "Objects can be letter or words, integers are real numbers, and floats are numbers with decimals. "
      ],
      "metadata": {
        "id": "dZeW_KRGzLSS"
      }
    },
    {
      "cell_type": "code",
      "source": [
        "dataframe.dtypes() #allows you to identify the data type of the column\n",
        "\n",
        "dataframe.astype() # allows you to change the type of data that the column represents, i.e. you can change between objetc, string, integer...\n"
      ],
      "metadata": {
        "id": "E7C5WJH5zOMC"
      },
      "execution_count": null,
      "outputs": []
    },
    {
      "cell_type": "markdown",
      "source": [
        "#Data Normalization\n",
        "\n",
        "This technique is used when there are different features with very wide data ranges that will generate some noise when they are subject to different data analysis techniques. This technique optimizes computing power due to the reduction of the values; also they will reduce biased results in this case. \n",
        "\n",
        "\n",
        "\n",
        "Simple feature scaling, uses the current x value divided by the max x value in the dataset. \n",
        "\n",
        "\n",
        "\n",
        "Min max scaling is the substraction of the current x value, minus the minimum; divided by the substacion of the maximum value of x minus the minimum value of x. \n",
        "\n",
        "\n",
        "\n",
        "Z score scaling uses the value of the current x, minus the average of the x value divided by its standard deviation. \n"
      ],
      "metadata": {
        "id": "uTNZqU0SzSwy"
      }
    },
    {
      "cell_type": "code",
      "source": [
        "df.['col']/df.['col'].max()\n",
        "\n",
        "(df.['col']-df.['col'].min())/(df.['col'].max()-df.['col'].min())\n",
        "\n",
        "df.['col']-df.['col'].mean()/df.['col'].std()\n",
        "\n",
        "#Formula for each method\n"
      ],
      "metadata": {
        "id": "ZACOVwblzf2m"
      },
      "execution_count": null,
      "outputs": []
    },
    {
      "cell_type": "markdown",
      "source": [
        "Binning is when you group different ranges of values into a single bin. This can help to imporve accuracy, that way you can categorize numerical data, which can also optimize computing power reducing the ammount of different values that need to be analyzed. "
      ],
      "metadata": {
        "id": "69cLGAUmzmLe"
      }
    },
    {
      "cell_type": "code",
      "source": [
        "bins = np.linspace(min(df['variable']), max(df['variable']), 4) # This formula will return 3 bins of equal binwidth in this case; the argument 4 takes into consideration the lowest possible value, then afterwards the 3 bins are created. \n",
        "\n",
        "groups = ['Cat1','Cat2','Cat3'] #These are the names of the generated 3 bins\n",
        "\n",
        "df['pricebinned']=pd.cut(df['price'],bins,labels=groups, include_lowest = True) #This will group the bins, the cut function will segment and sort data values into bins. \n"
      ],
      "metadata": {
        "id": "XcRrv55lzjyo"
      },
      "execution_count": null,
      "outputs": []
    },
    {
      "cell_type": "markdown",
      "source": [
        "Turning categorical variables into quantitative variables: most statistical models are unable to take objects or strings as inputs; you can create features or columns to then activate boolean instances so, when a certain condition is happening then the feature will be represented as a 0 or a 1. These are called dummy variables\n"
      ],
      "metadata": {
        "id": "jiHSDuSSzyNZ"
      }
    },
    {
      "cell_type": "code",
      "source": [
        "pd.get_dummies(df.['col']) #this will create the new columns where categories are then in a column each. "
      ],
      "metadata": {
        "id": "x3YtsOgWz1Yb"
      },
      "execution_count": null,
      "outputs": []
    },
    {
      "cell_type": "markdown",
      "source": [],
      "metadata": {
        "id": "u5ZgQNjs0hHb"
      }
    }
  ]
}